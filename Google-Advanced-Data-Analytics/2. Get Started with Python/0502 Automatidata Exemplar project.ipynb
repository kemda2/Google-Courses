{
 "cells": [
  {
   "cell_type": "markdown",
   "metadata": {},
   "source": [
    "# Activity Exemplar: Create your Course 2 Automatidata project\n",
    "\n",
    "Here are completed exemplars along with an explanation of how the exemplars fulfill the expectations for the activity. \n",
    "\n",
    "## Completed Exemplars\n",
    "\n",
    "To review the exemplar for the Course 2 executive summary, click the following link and select Use Template.\n",
    "\n",
    "_**Note**__: The following lab is also the next course item._ \n",
    "\n",
    "To access the exemplar for the end-of-course project lab, click the following link and select _Open Lab_. \n",
    "\n",
    "- [Course 2 Automatidata project lab](https://www.coursera.org/learn/get-started-with-python/ungradedLab/fvJDh/exemplar-course-2-automatidata-project-lab)\n",
    "    \n",
    "\n",
    "## Assessment of Exemplar\n",
    "\n",
    "### Course 2 Automatidata project lab \n",
    "\n",
    "Compare the exemplar to the Python notebook you completed. Your responses might differ from the exemplar, but that is to be expected. What did you do well? Where can you improve? Use your answers to these questions to guide you as you progress through the end-of-course projects in the certificate.\n",
    "\n",
    "_**Note:**_ _The exemplar represents one possible way to complete the Python notebook. Yours might differ in certain ways, such as your specific code input or responses to questions. What's important is that you have an overall understanding of the purpose and functionality of a Python notebook for data analysis._\n",
    "\n",
    "Your Python notebook should: \n",
    "\n",
    "- Include the correct code for inspecting and organizing your data\n",
    "    \n",
    "- Clearly communicate your responses to questions about code input and results\n",
    "    \n",
    "\n",
    "### Course 2 executive summary \n",
    "\n",
    "Compare the exemplar to your completed executive summary. Your responses might differ from the exemplar, but that is to be expected. What did you do well? Where can you improve? Use your answers to these questions to guide you as you progress through the end-of-course projects in the certificate. \n",
    "\n",
    "_**Note:**_ _The exemplar represents one possible way to complete the executive summary. Yours might differ in certain ways, such as your specific language, answers to questions or the layout you selected from the template offerings. What’s important is that you have an overall understanding of the purpose and organization of executive summaries for data projects._ \n",
    "\n",
    "Your executive summary should: \n",
    "\n",
    "- Include key information that you want to share with teammates and/or stakeholders\n",
    "    \n",
    "- Use clear and concise language to effectively communicate your results"
   ]
  }
 ],
 "metadata": {
  "kernelspec": {
   "display_name": "Python 3 (ipykernel)",
   "language": "python",
   "name": "python3"
  },
  "language_info": {
   "codemirror_mode": {
    "name": "ipython",
    "version": 3
   },
   "file_extension": ".py",
   "mimetype": "text/x-python",
   "name": "python",
   "nbconvert_exporter": "python",
   "pygments_lexer": "ipython3",
   "version": "3.11.0"
  }
 },
 "nbformat": 4,
 "nbformat_minor": 4
}
