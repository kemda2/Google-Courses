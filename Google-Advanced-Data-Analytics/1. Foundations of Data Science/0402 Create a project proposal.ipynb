{
 "cells": [
  {
   "cell_type": "markdown",
   "metadata": {},
   "source": [
    "## Activity Overview\n",
    "\n",
    "As you have learned, a project proposal is a plan of action that describes what needs to be accomplished in order to achieve a project’s intended goals and outcome. The main function of this resource is to outline a project’s objectives and requirements. Project proposals are typically generated at the beginning of a project and are used by team members throughout the project’s duration. \n",
    "\n",
    "In this activity, you will create a project proposal based on a fictional workplace scenario. \n",
    "\n",
    "To review tips for creating an effective project proposal, refer to the reading about [communicating objectives with a project proposal](https://www.coursera.org/learn/foundations-of-data-science/supplement/79Ysh/communicate-objectives-with-a-project-proposal). \n",
    "\n",
    "Be sure to complete this activity before moving on. The next course item will provide you with a completed exemplar to compare to your own work. You will not be able to access the exemplar until you have completed this activity.\n",
    "\n",
    "## Scenario\n",
    "\n",
    "Review the following scenario. Then complete the step-by-step instructions.\n",
    "\n",
    "You are a data professional working for an international delivery company.  Company leadership has asked the data team to develop a machine learning model for predictive maintenance on its fleet of delivery vehicles. Predictive maintenance uses machine learning to help predict equipment failures before they occur. The ML model analyzes both historical data such as performance and maintenance records, and real-time data collected from sensors placed on vehicles. \n",
    "\n",
    "Leadership wants to use the power of predictive maintenance to monitor the performance of delivery vehicles, and to identify and fix issues before they cause costly downtime or delays. For example, if the engine of a delivery vehicle breaks down, the company has to deal with delivery delays, dissatisfied customers, vehicle repair or replacement, and potential safety issues. Predictive maintenance offers benefits such as optimized delivery, increased safety, improved customer service, and reduced costs.\n",
    "\n",
    "Your manager asks you to create a project proposal to identify and organize key milestones and deliverables for the project. The proposed timeline for the project is 12 weeks. The goal is to build a model with at least 90% accuracy.\n",
    "\n",
    "## Step-By-Step Instructions\n",
    "\n",
    "Follow the instructions to complete each step of the activity. Then, answer the five questions at the end of the activity before going to the next course item to compare your work to a completed exemplar.\n",
    "\n",
    "### **Step 1: Access the template**\n",
    "\n",
    "To use the supporting materials for this course item, click the following link and select “Use Template.” \n",
    "\n",
    "### Step 2: Complete the project proposal \n",
    "\n",
    "Review the scenario and think about the objective, scope, timeline, and key tasks of the project. The project proposal should include the following tasks: \n",
    "\n",
    "- Data collection\n",
    "    \n",
    "- Data cleaning \n",
    "    \n",
    "- Data exploration \n",
    "    \n",
    "- Building and testing of ML models\n",
    "    \n",
    "- Sharing results/insights with stakeholders \n",
    "    \n",
    "\n",
    "Consider what information would be most relevant to the data team. Then complete the project proposal with that information. \n",
    "\n",
    "Note that the project template has been organized according to the PACE framework (Plan, Analyze, Construct, Execute).\n",
    "\n",
    "### **Pro Tip: Save the template**\n",
    "\n",
    "Finally, be sure to save a blank copy of the template you used to complete this activity. You can use it for further practice or in your professional projects. These templates will help you work through your thought processes and demonstrate your experience to potential employers.\n",
    "\n",
    "Be sure to address the following elements in your completed project proposal:: \n",
    "\n",
    "- A project title \n",
    "    \n",
    "- An objective statement that describes the goal of the project \n",
    "    \n",
    "- A list of key tasks and deliverables to be completed for each project milestone \n",
    "    \n",
    "- A time estimate for achieving each project milestone"
   ]
  },
  {
   "cell_type": "code",
   "execution_count": null,
   "metadata": {},
   "outputs": [],
   "source": []
  }
 ],
 "metadata": {
  "kernelspec": {
   "display_name": "Python 3 (ipykernel)",
   "language": "python",
   "name": "python3"
  },
  "language_info": {
   "codemirror_mode": {
    "name": "ipython",
    "version": 3
   },
   "file_extension": ".py",
   "mimetype": "text/x-python",
   "name": "python",
   "nbconvert_exporter": "python",
   "pygments_lexer": "ipython3",
   "version": "3.11.0"
  }
 },
 "nbformat": 4,
 "nbformat_minor": 4
}
