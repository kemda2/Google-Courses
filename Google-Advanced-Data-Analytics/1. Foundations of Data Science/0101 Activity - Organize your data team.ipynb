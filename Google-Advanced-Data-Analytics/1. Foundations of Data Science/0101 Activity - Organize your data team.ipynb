{
  "metadata": {
    "kernelspec": {
      "name": "python",
      "display_name": "Python (Pyodide)",
      "language": "python"
    },
    "language_info": {
      "codemirror_mode": {
        "name": "python",
        "version": 3
      },
      "file_extension": ".py",
      "mimetype": "text/x-python",
      "name": "python",
      "nbconvert_exporter": "python",
      "pygments_lexer": "ipython3",
      "version": "3.8"
    }
  },
  "nbformat_minor": 4,
  "nbformat": 4,
  "cells": [
    {
      "cell_type": "markdown",
      "source": "# Step-By-Step Instructions\n\nFollow the instructions and answer the questions to complete the activity. Then, go to the next course item to compare your work to a completed exemplar.\n\n## Part 1 - Explore an example matrix\n\n***\n\n### **Step 1: Review four common data professional roles**\n\nConsider the four common data professional roles and how they might perform different functions and tasks within the same project: \n\n- **Data scientist**: Data scientists are professionals who work closely with analytics to provide meaningful insights that help improve current business operations.\n    \n- **Data engineer**: Data engineers are professionals concerned with infrastructure and are responsible for developing and managing databases. They often work alongside data scientists to build custom pipelines to manage the analysis and organization of raw data.\n    \n- **Analytics team Manager**: Analytics team managers are data professionals who build and support a team of data scientists and analysts. Often they will lead a company’s analytics department. In this role, they supervise different projects to develop and implement strategies that convert raw data into business insights.\n    \n- **Business intelligence (BI) engineer**: Business intelligence engineers are data professionals who use their knowledge of business trends and databases to organize information and make it accessible. This role is also known as a business intelligence analyst.\n\n### Step 2: Example RACI matrix for a single task\n\nOne of the tasks essential to any analytics project is providing access to data. This means that when you assume this role, you will help others use the available data. The RACI matrix is a way to communicate the level of accountability for this task by assigning cross-functional team members to one of the four categories: **R: Responsible, A: Accountable, C: Consulted,** or **I: Informed**\n\n|**Task**|**Business Intelligence**<br><br>**Engineer**|**Data Scientist**|**Analytics Team Manager**|**Data Engineer**|\n|---|---|---|---|---|\n|Access to data|R|C|R|R|\n\nOn the sample RACI chart, not every letter has been assigned. Not all tasks will include every letter! Three of the data roles have been marked as “responsible” for facilitating data accessibility. \n\n- BI engineers organize existing data and provide reports to help understand what type of data is available.\n    \n- Analytics team managers develop and prioritize work streams based on business questions that can be addressed with the data.\n    \n- Data engineers build custom pipelines to manage organization of and access to the raw data the team needs. \n    \n\nAll three of these roles have been assigned tasks that will provide _access to data_ for other team members. \n\nNotice that data scientists are \"consulted\" in this example. Although they are instrumental in analyzing data and providing insights, they might not take the lead in initially acquiring the data. However, the data scientists will want to work closely with those leading the process to make sure they have data that is aligned to the business objectives and modeling approach.\n\n## Part 2 - Complete your own matrix\n\n***\n\n### Step 1: Access the template\n\nTo use the template for this course item, click the following link and select _Use Template_. \n\n\n### Step 2: Assign responsibility\n\nAssign the business intelligence engineer, the data scientist, the analytics team manager, and the data engineer one of the RACI categories for three different data project tasks: **R: Responsible, A: Accountable, C: Consulted,** or **I: Informed.** For this matrix, there are three common tasks that need to be assigned: access to data, create models to analyze data, and drive insights and recommendations based on data. \n\nRemember to consider each role’s usual responsibilities as you complete your matrix.\n\n### Step 3: Expand your RACI matrix\n\nThe four data team roles identified on this chart are examples of titles that you will work closely with on a regular basis. Now it’s time to consider how to incorporate an additional executive-level role:\n\n- **Chief data officer**: The chief data officer is in charge of consistency, accuracy, relevancy, interpretability, and reliability of the data a team provides. \n    \n\nThere will be some tasks that will require more senior stakeholder engagement. One of those tasks is ensuring that data used in analysis is compliant with industry standards and regulations.\n\n- **Ensure Data Compliance:** Team members responsible for making sure that the organization follows protocols and legal requirements of data stewardship.\n    \n\nAdd this new role and task to your RACI matrix.\n\n## What to Include in Your Response\n\nBe sure to address the following elements in your completed activity: \n\n- The roles and responsibilities of common data professional roles\n    \n- How the RACI criteria applies to different data tasks\n    \n- The organization of a data team’s roles and responsibilities",
      "metadata": {}
    }
  ]
}