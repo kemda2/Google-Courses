{
  "metadata": {
    "kernelspec": {
      "name": "python",
      "display_name": "Python (Pyodide)",
      "language": "python"
    },
    "language_info": {
      "codemirror_mode": {
        "name": "python",
        "version": 3
      },
      "file_extension": ".py",
      "mimetype": "text/x-python",
      "name": "python",
      "nbconvert_exporter": "python",
      "pygments_lexer": "ipython3",
      "version": "3.8"
    }
  },
  "nbformat_minor": 4,
  "nbformat": 4,
  "cells": [
    {
      "cell_type": "markdown",
      "source": "# Activity Overview\n\nYou have learned about the vital role of communication in meeting the needs of different stakeholders in the data professional career space. In this activity, you will write emails to two stakeholders in different roles at a government agency. This activity is based on a fictional workplace scenario. \n\nTo review tips for communicating effectively as a data professional, refer to the reading about [essential data professional communication practices](https://www.coursera.org/learn/foundations-of-data-science/supplement/AiGjd/best-communication-practices-for-data-professionals).\n\nBe sure to complete this activity before moving on. The next course item will provide you with a completed exemplar to compare to your own work. You will not be able to access the exemplar until you have completed this activity. \n\n## Scenario\n\nReview the following scenario. Then complete the step-by-step instructions.\n\nYou are a data professional working for the U.S. National Park Service (NPS). The NPS manages 63 National Parks, including the Grand Canyon, Great Smoky Mountains, Yellowstone, and Yosemite. The NPS’ mission is to preserve the natural and cultural resources of the parks for the enjoyment, education, and inspiration of present and future generations. Your team analyzes data to improve visitor experiences and protect park resources. \n\nOne of the NPS’ main concerns is the recent increase in visitation. In 2022, the NPS received about 312 million recreation visits, an increase of 15 million visits from 2021. 26 percent of total visits occurred in the top 8 most visited parks. While the NPS strives to serve as many people as possible, unexpected increases in visitation can stress the natural environments and wildlife within the parks. Further, overcrowding decreases the overall quality of visitor experiences.\n\nNPS leadership has asked the data team to build a machine learning model to predict future visitation at the most visited parks. To develop the model, the data team will analyze historical data on recreation visits, and also consider other factors affecting visitation rates: weather, temperature, user fees, traffic conditions, and more. The proposed timeline for the project is 12 weeks. The goal is to build a model with at least 90% accuracy.\n\nA powerful model can help park managers better understand trends in future visitation, and take proactive measures to protect the parks’ natural and cultural resources. Managers can also use predictive data to make informed decisions about implementing changes in park operations or infrastructure. For example, increasing staffing, renovating facilities, or upgrading the visitors’ reservation system. \n\nYour team leader has asked you to email two new employees and give them an overview of the project:\n\n- A data professional who will be part of your team. This person will need relevant information about the data team’s workflow and project goals. \n    \n- A writer for NPS public relations. This person will need relevant information to create non-technical articles that promote the NPS’ efforts to improve visitor experience. \n    \n\n## Step-By-Step Instructions\n\nFollow the instructions to complete each step of the activity. Then, answer the three questions at the end of the activity before going to the next course item to compare your work to a completed exemplar.\n\n### **Step 1: Access the template**\n\nTo use the template for this course item, click the following link and select _Use Template_. \n\n\n### Step 2: Complete the email to the new data professional\n\nReview the scenario and identify the needs of your audience (in this case, the new data professional joining your team): \n\n- Why are you emailing this stakeholder?\n    \n- What does this stakeholder need from this interaction?\n    \n- What is important to them?\n    \n\nConsider what information would be most relevant to the data professional based on the scenario provided. Then complete **Email #1** with that information, and be sure to invite them to ask follow-up questions.\n\n### Step 3: Complete the email to the new public relations writer\n\nReview the scenario and reconsider the questions listed in **Step 2** for your email to the new public relations writer. Consider what information would be most relevant to the recipient. Then complete **Email #2** with that information, and be sure to invite them to ask follow-up questions.\n\n### Pro Tip: Save the template\n\nFinally, be sure to save a blank copy of the template you used to complete this activity. You can use it for further practice or in your professional projects. These templates will help you work through your thought processes and demonstrate your experience to potential employers.\n\n## What to Include in Your Response\n\nBe sure to address the following elements in your completed emails to the new data professional and the new writer: \n\n- Indicate why you are communicating with the recipient \n    \n- Address what they need from the interaction\n    \n- Identify what is important to them\n    \n- Invite them to ask follow-up questions",
      "metadata": {}
    }
  ]
}