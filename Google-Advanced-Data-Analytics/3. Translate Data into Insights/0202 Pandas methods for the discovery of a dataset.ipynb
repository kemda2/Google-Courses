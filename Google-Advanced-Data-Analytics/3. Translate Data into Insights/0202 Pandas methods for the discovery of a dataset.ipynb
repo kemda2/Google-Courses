{
 "cells": [
  {
   "cell_type": "markdown",
   "id": "673faa69-af6b-4c0a-9c6c-560eacd9c16e",
   "metadata": {},
   "source": [
    "# Reference guide: Pandas methods for the discovery of a dataset\n",
    "\n",
    "## Python reference guide for EDA: Discovering\n",
    "\n",
    "Use the following pandas methods and attributes to help you learn about a dataset when you encounter it for the first time.\n",
    "\n",
    "### Save this course item\n",
    "\n",
    "You may want to save a copy of this guide for future reference. You can use it as a resource for additional practice or in your future professional projects. To access a downloadable version of this course item, click the link below and select “Use Template.” \n",
    "\n",
    "**DataFrame.head()**\n",
    "\n",
    "- The head() method will display the first _n_ rows of the dataframe. \n",
    "    \n",
    "- In the argument field, input the number of rows you want displayed in a Python notebook. The default is 5 rows. \n",
    "    \n",
    "- Once executed, the head() method returns something like this: "
   ]
  },
  {
   "cell_type": "code",
   "execution_count": null,
   "id": "6747a8d8-9daf-4a4b-a42b-0d600c17c497",
   "metadata": {},
   "outputs": [],
   "source": [
    "df.head(10)"
   ]
  },
  {
   "cell_type": "markdown",
   "id": "b5e739a1-5edf-45dd-ac20-cadf4c1fd997",
   "metadata": {},
   "source": [
    "|index|date|number of strikes|center point geom|\n",
    "|---|---|---|---|\n",
    "|0|2018-01-03|194|POINT(-75 27)|\n",
    "|1|2018-01-03|41|POINT(-78.4 29)|\n",
    "|2|2018-01-03|33|POINT(-73.9 27)|\n",
    "|3|2018-01-03|38|POINT(-73.8 27)|\n",
    "|4|2018-01-03|92|POINT(-79 28)|\n",
    "|5|2018-01-03|119|POINT(-78 28)|\n",
    "|6|2018-01-03|35|POINT(-79.3 28)|\n",
    "|7|2018-01-03|60|POINT(-79.1 28)|\n",
    "|8|2018-01-03|41|POINT(-78.7 28)|\n",
    "|9|2018-01-03|119|POINT(-78.6 28)|\n",
    "\n",
    "**Note**: In a Python notebook, the results of head() will not include a table with visible grid lines. \n",
    "\n",
    "### **DataFrame.info(X)**\n",
    "\n",
    "- The info() method will display a summary of the dataframe, including the range index, dtypes, column headers, and memory usage.\n",
    "    \n",
    "- Leaving the argument field blank will return a full summary. As an option, in the argument field you can type in show_counts=True, which will return the count of non-null values for each column. \n",
    "    \n",
    "- Once executed, the info() method returns something like this:\n",
    "    \n",
    "\n",
    "**Note:** The following code block is not interactive."
   ]
  },
  {
   "cell_type": "code",
   "execution_count": null,
   "id": "7dfc12b8-9bf7-49cf-8d9c-7acbe8177fec",
   "metadata": {},
   "outputs": [],
   "source": [
    "df.info()\n",
    "<class ‘pandas.core.frame.DataFrame’>\n",
    "RangeIndex:3401012 entries, 0 to 3401011\n",
    "Data columns (total 3 columns):\n",
    "#     Column                   Dtype\n",
    "--    ----                     ----- \n",
    "0     date                     object\n",
    "1     number_of_strikes        int64\n",
    "2     center_point_geom        object\n",
    "Dtypes: int64(1), object(2)\n",
    "Memory usage 77.8+ MB"
   ]
  },
  {
   "cell_type": "markdown",
   "id": "55163b99-9c78-4bf3-a909-7182275a7dbf",
   "metadata": {},
   "source": [
    "### **DataFrame.describe()**\n",
    "\n",
    "- The describe() method will return descriptive statistics of the entire dataset, including total count, mean, minimum, maximum, dispersion, and distribution. \n",
    "    \n",
    "- Leaving the argument field blank will default to returning a summary of the data frame’s statistics. As an option, you can use “include=[X]” and “exclude=[X]” which will limit the results to specific data types, depending on what you input in the brackets. \n",
    "    \n",
    "- Once executed, the describe() method returns something like this:\n",
    "    "
   ]
  },
  {
   "cell_type": "code",
   "execution_count": null,
   "id": "49b777a6-39dc-4180-a3f4-80fd6b858fbb",
   "metadata": {},
   "outputs": [],
   "source": [
    "df_joined.describe()"
   ]
  },
  {
   "cell_type": "markdown",
   "id": "18fcca8a-646c-49ef-8708-ff701ed07b27",
   "metadata": {},
   "source": [
    "|N/A|longitude|latitude|number_of_strikes_x|number_of_strikes_y|\n",
    "|---|---|---|---|---|\n",
    "|count|717530.00|717530.00|717530.00|323700.00000|\n",
    "|mean|-90.875445|33.328572|21.637081|25.410587|\n",
    "|std|13.648429|7.938831|48.02952|57.421824|\n",
    "|min|-133.9000|16.600000|1.00000|1.000000|\n",
    "|25%|-102.80000|26.900000|3.00000|3.000000|\n",
    "|50%|-90.300000|33.200000|6.00000|8.000000|\n",
    "|75%|-80.900000|39.400000|21.00000|24.000000|\n",
    "|max|-43.800000|51.700000|2211.00000|2211.000000|\n",
    "\n",
    "**Note**: In a Python notebook, the results of describe() will not include a table with visible grid lines. \n",
    "\n",
    "### **DataFrame.shape**\n",
    "\n",
    "- shape is an attribute that returns a tuple representing the dimensions of the dataframe by number of rows and columns. Remember that attributes are not followed by parentheses. The code will look something like this: \n",
    "    \n",
    "\n",
    "**Note:** The following code block is not interactive."
   ]
  },
  {
   "cell_type": "code",
   "execution_count": null,
   "id": "f6eff054-eb8e-457b-addc-a199907c1cc0",
   "metadata": {},
   "outputs": [],
   "source": [
    "df.shape\n",
    "\n",
    "(3401012, 3)"
   ]
  },
  {
   "cell_type": "markdown",
   "id": "e9eb4ae9-5eaa-41d9-8b9a-5d2af3b9fb02",
   "metadata": {},
   "source": [
    "## Key takeaways\n",
    "\n",
    "head(), info(), describe(), and shape are pandas tools that data scientists can use to understand a dataset at a high level. The information learned from using these tools will serve to inform the remainder of your EDA work when you use pandas to analyze data throughout your career.\n",
    "\n",
    "## Resources for more information\n",
    "\n",
    "For more information on the EDA discovering functions above and others like it, you can use the online Pandas reference guide: \n",
    "\n",
    "- [A list of Pandas dataframe functions](https://pandas.pydata.org/docs/reference/frame.html)"
   ]
  }
 ],
 "metadata": {
  "kernelspec": {
   "display_name": "Python 3 (ipykernel)",
   "language": "python",
   "name": "python3"
  },
  "language_info": {
   "codemirror_mode": {
    "name": "ipython",
    "version": 3
   },
   "file_extension": ".py",
   "mimetype": "text/x-python",
   "name": "python",
   "nbconvert_exporter": "python",
   "pygments_lexer": "ipython3",
   "version": "3.12.2"
  }
 },
 "nbformat": 4,
 "nbformat_minor": 5
}
