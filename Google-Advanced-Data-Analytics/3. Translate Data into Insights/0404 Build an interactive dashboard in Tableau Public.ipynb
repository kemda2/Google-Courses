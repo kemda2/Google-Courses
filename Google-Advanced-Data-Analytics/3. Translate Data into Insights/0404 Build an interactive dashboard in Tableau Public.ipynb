{
 "cells": [
  {
   "cell_type": "markdown",
   "id": "2b83ad00-1756-423f-ade1-d9b5c4c1af4f",
   "metadata": {},
   "source": [
    "# Activity Exemplar: Build an interactive dashboard in Tableau Public\n",
    "\n",
    "Here is a completed exemplar along with an explanation of how the exemplar fulfills the expectations for the activity. \n",
    "\n",
    "## Completed Exemplar\n",
    "\n",
    "To review the exemplar for this course item, click the following link .\n",
    "\n",
    "## Assessment of Exemplar\n",
    "\n",
    "Compare the exemplar to your completed activity. Review your work using each of the criteria in the exemplar. What did you do well? Where can you improve? Use your answers to these questions to guide you as you continue to progress through the course. \n",
    "\n",
    "_**Note:**_ _The exemplar represents one possible way to complete the data visualization. Yours will likely differ in certain ways. What’s important is that your data visualization meets the business scenario criteria._\n",
    "\n",
    "### How the exemplar meets the criteria\n",
    "\n",
    "Notice how the exemplar posted to Tableau Public uses the detail from the given scenario to adhere to the following guidelines: \n",
    "\n",
    "- The data dashboard includes two dynamic worksheets.\n",
    "    \n",
    "- The dashboard has divided the data into two different bar graphs: by Weekday and by Adjacent Day.\n",
    "    \n",
    "- One worksheet divides data into dates and months\n",
    "    \n",
    "- This worksheet is the “By Adjacent Day” worksheet.\n",
    "    \n",
    "- Another worksheet is divided into dates for each day of the week. This worksheet is the “By Weekday” worksheet.\n",
    "    \n",
    "- The dashboard, worksheets, and filters are properly labeled. \n",
    "    \n",
    "- Holidays are shown in a clearly contrasting color. Holiday data is in orange, while non-holiday data is in blue.\n",
    "    \n",
    "- The filters on the dashboard sidebar filter the desired data.\n",
    "    \n",
    "- There are two filters shown and one legend.\n",
    "    \n",
    "- One filter connects to the “By Adjacent Day” data and allows the data to be filtered by month.\n",
    "    \n",
    "- Another filter connects to the “By Weekday” data and allows the data to filter by day of the week.\n",
    "    \n",
    "- The legend shows that holidays are orange and non-holidays are blue."
   ]
  }
 ],
 "metadata": {
  "kernelspec": {
   "display_name": "Python 3 (ipykernel)",
   "language": "python",
   "name": "python3"
  },
  "language_info": {
   "codemirror_mode": {
    "name": "ipython",
    "version": 3
   },
   "file_extension": ".py",
   "mimetype": "text/x-python",
   "name": "python",
   "nbconvert_exporter": "python",
   "pygments_lexer": "ipython3",
   "version": "3.12.2"
  }
 },
 "nbformat": 4,
 "nbformat_minor": 5
}
