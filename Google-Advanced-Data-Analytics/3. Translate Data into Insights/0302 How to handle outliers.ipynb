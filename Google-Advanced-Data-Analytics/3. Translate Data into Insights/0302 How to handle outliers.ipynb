{
 "cells": [
  {
   "cell_type": "markdown",
   "id": "ba1e885a-8dc7-4702-8db6-d03a670ec8ca",
   "metadata": {},
   "source": [
    "# Reference guide: How to handle outliers\n",
    "\n",
    "You might want to save a copy of this guide for future reference. You can use it as a resource for additional practice or in your future professional projects. To access a downloadable version of this course item, click the link below and select “Use Template.” \n",
    "\n",
    "Previously, you watched two videos about how to detect outliers and why handling outliers can be an important part of data cleaning. At this point, you likely have a good understanding of this. It is important to not only detect outliers, but also to have a plan for them.\n",
    "\n",
    "That is precisely what you will review in this reading. Once you’ve detected outliers in your dataset—whether global, contextual, or collective—how do you handle them? When it comes to exploratory data analysis, or EDA, there are essentially three main ways to handle outliers: delete, reassign, or leave them in.\n",
    "\n",
    "Whether you keep outliers as they are, delete them, or reassign values is a decision that you make on a dataset-by-dataset basis. To help you make the decision, you can start with these general guidelines:\n",
    "\n",
    "- **Delete them**: If you are sure the outliers are mistakes, typos, or errors and the dataset will be used for modeling or machine learning, then you are more likely to decide to delete outliers. Of the three choices, you’ll use this one the least. \n",
    "    \n",
    "- **Reassign them**: If the dataset is small and/or the data will be used for modeling or machine learning, you are more likely to choose a path of deriving new values to replace the outlier values. \n",
    "    \n",
    "- **Leave them**: For a dataset that you plan to do EDA/analysis on and nothing else, or for a dataset you are preparing for a model that is resistant to outliers, it is most likely that you are going to leave them in.\n",
    "    \n",
    "\n",
    "The videos discussing outliers went into detail on how to handle outliers when you leave them in the dataset. In this reading, you will learn about some techniques for deleting and reassigning outliers. \n",
    "\n",
    "## **1. Delete them.** \n",
    "\n",
    "For one way to delete outlier values, recall the coding you saw in the walkthrough video on outliers. In that video, the instructor coded a box plot to help you visualize two different outliers, as shown here:\n",
    "\n",
    "**Note:** The following code block is not interactive."
   ]
  },
  {
   "cell_type": "code",
   "execution_count": null,
   "id": "023e829e-a192-4bf0-ab2d-cdb3941773b2",
   "metadata": {},
   "outputs": [],
   "source": [
    "box = sns.boxplot(x=df['number_of_strikes'])\n",
    "g = plt.gca()\n",
    "box.set_xticklabels(np.array([readable_numbers(x) for x in g.get_xticks()]))\n",
    "plt.xlabel('Number of strikes')\n",
    "plt.title('Yearly number of lightning strikes');"
   ]
  },
  {
   "attachments": {
    "cd1fab9d-199c-4d16-8c78-12521c769f96.png": {
     "image/png": "[encoded data removed]"
    }
   },
   "cell_type": "markdown",
   "id": "8a31fe5c-1eda-4ad3-b9f5-c19b392603bc",
   "metadata": {},
   "source": [
    "![image.png](attachment:cd1fab9d-199c-4d16-8c78-12521c769f96.png)\n",
    "\n",
    "The instructor then used the following code to find the lower limit—8.6M.  "
   ]
  },
  {
   "cell_type": "code",
   "execution_count": null,
   "id": "fc95683f-278c-4f23-9418-e12c7839dad0",
   "metadata": {},
   "outputs": [],
   "source": [
    "# Calculate 25th percentile of annual strikes\n",
    "percentile25 = df['number_of_strikes'].quantile(0.25)\n",
    "\n",
    "# Calculate 75th percentile of annual strikes\n",
    "percentile75 = df['number_of_strikes'].quantile(0.75)\n",
    "\n",
    "# Calculate interquartile range\n",
    "iqr = percentile75 - percentile25\n",
    "\n",
    "# Calculate upper and lower thresholds for outliers\n",
    "upper_limit = percentile75 + 1.5 * iqr\n",
    "lower_limit = percentile25 - 1.5 * iqr\n",
    "\n",
    "print('Lower limit is: ', lower_limit)\n",
    "\n",
    "Reset\n",
    "\n",
    "Lower limit is:  8585016.625"
   ]
  },
  {
   "cell_type": "markdown",
   "id": "879f650c-e0e9-4611-b48a-1e66738889fa",
   "metadata": {},
   "source": [
    "Next, a Boolean mask was used to filter the dataframe so it only contained rows where the number of strikes was less than the lower limit."
   ]
  },
  {
   "cell_type": "code",
   "execution_count": null,
   "id": "ade4357e-e26d-47af-b016-5084a3543151",
   "metadata": {},
   "outputs": [],
   "source": [
    "print(df[df['number_of_strikes'] < lower_limit])\n",
    "\n",
    "RunReset\n",
    "\n",
    "    number_of_strikes  year\n",
    "1              209166  2019\n",
    "33            7378836  1987"
   ]
  },
  {
   "cell_type": "markdown",
   "id": "5a00c6a8-7af8-46a5-930d-2256144b7f5a",
   "metadata": {},
   "source": [
    "Once you know the cutoff points for outliers, if you want to delete them, you can use a Boolean mask to select all rows such that: lower limit ≤ values ≤ upper limit. "
   ]
  },
  {
   "cell_type": "code",
   "execution_count": null,
   "id": "4dae7b46-996a-4f1a-a68f-8266b3794090",
   "metadata": {},
   "outputs": [],
   "source": [
    "mask = (df['number_of_strikes'] >= lower_limit) & (df['number_of_strikes'] <=\n",
    "\n",
    "upper_limit)\n",
    "\n",
    "df = df[mask].copy()\n",
    "\n",
    "print(df)\n",
    "\n",
    "RunReset\n",
    "\n",
    "    number_of_strikes  year\n",
    "0            15620068  2020\n",
    "2            44600989  2018\n",
    "3            35095195  2017\n",
    "4            41582229  2016\n",
    "5            37894191  2015\n",
    "6            34919173  2014\n",
    "7            27600898  2013\n",
    "8            28807552  2012\n",
    "9            31392058  2011\n",
    "10           29068965  2010\n",
    "11           30100585  2009\n",
    "12           29790934  2008\n",
    "13           30529064  2007\n",
    "14           33292382  2006\n",
    "15           38168699  2005\n",
    "16           40023951  2004\n",
    "17           39092327  2003\n",
    "18           29916767  2002\n",
    "19           25470095  2001\n",
    "20           26276135  2000\n",
    "21           27758681  1999\n",
    "22           28802221  1998\n",
    "23           26986915  1997\n",
    "24           26190094  1996\n",
    "25           22763540  1995\n",
    "26           25094010  1994\n",
    "27           24206929  1993\n",
    "28           16371876  1992\n",
    "29           16900934  1991\n",
    "30           15839052  1990\n",
    "31           14245186  1989\n",
    "32            9150440  1988"
   ]
  },
  {
   "cell_type": "markdown",
   "id": "04b9ab4d-e353-416f-be69-77b510f23123",
   "metadata": {},
   "source": [
    "Next, you’ll consider reassigning outliers by deriving new values that are a better fit for the dataset.\n",
    "\n",
    "## **2. Reassigning them.**\n",
    "\n",
    "Instead of deleting outliers, you can always reassign them, that is, change the values to ones that fit within the general distribution of the dataset. There are two common ways to do this, but many different ways can be used, depending on your use case:\n",
    "\n",
    "**1. Create a floor and ceiling at a quantile:** For example, you could place walls at the 90th and 10th percentile of the distribution of data values. Any value above the 90% mark or below the 10% mark are changed to fit within the walls you set. Here is an example of what that code might look like:"
   ]
  },
  {
   "cell_type": "code",
   "execution_count": null,
   "id": "b091cb16-f02c-4fdc-a7ed-a873e92e4526",
   "metadata": {},
   "outputs": [],
   "source": [
    "# Calculate 10th percentile\n",
    "\n",
    "tenth_percentile = np.percentile(df['number_of_strikes'], 10)\n",
    "\n",
    "# Calculate 90th percentile\n",
    "\n",
    "ninetieth_percentile = np.percentile(df['number_of_strikes'], 90)\n",
    "\n",
    "# Apply lambda function to replace outliers with thresholds defined above\n",
    "\n",
    "df['number_of_strikes'] = df['number_of_strikes'].apply(lambda x: (\n",
    "\n",
    "    tenth_percentile if x < tenth_percentile \n",
    "\n",
    "    else ninetieth_percentile if x > ninetieth_percentile \n",
    "\n",
    "    else x))\n",
    "\n",
    "RunReset\n",
    "\n",
    "0     15620068.0\n",
    "1     14657650.6\n",
    "2     38815238.6\n",
    "3     35095195.0\n",
    "4     38815238.6\n",
    "5     37894191.0\n",
    "6     34919173.0\n",
    "7     27600898.0\n",
    "8     28807552.0\n",
    "9     31392058.0\n",
    "10    29068965.0\n",
    "11    30100585.0\n",
    "12    29790934.0\n",
    "13    30529064.0\n",
    "14    33292382.0\n",
    "15    38168699.0\n",
    "16    38815238.6\n",
    "17    38815238.6\n",
    "18    29916767.0\n",
    "19    25470095.0\n",
    "20    26276135.0\n",
    "21    27758681.0\n",
    "22    28802221.0\n",
    "23    26986915.0\n",
    "24    26190094.0\n",
    "25    22763540.0\n",
    "26    25094010.0\n",
    "27    24206929.0\n",
    "28    16371876.0\n",
    "29    16900934.0\n",
    "30    15839052.0\n",
    "31    14657650.6\n",
    "32    14657650.6\n",
    "33    14657650.6\n",
    "Name: number_of_strikes, dtype: float64"
   ]
  },
  {
   "cell_type": "markdown",
   "id": "929a55f5-7fc4-44e9-ac0d-33b9f4b9bb1a",
   "metadata": {},
   "source": [
    "**2. Impute the average:** In some cases, it might be best to reassign all outlier values to match the median or mean value. This will ensure that your median and distribution are based solely on the non-outlier values, leaving the original outliers excluded. The actual imputation or reassigning of values can be pretty simple if you’ve already found the outliers. The following code block calculates the median of the values greater than the lower limit. Then it imputes the median where values are lower than the lower limit."
   ]
  },
  {
   "cell_type": "code",
   "execution_count": null,
   "id": "ae07a757-f02a-405e-a90b-c6b9cc6269c5",
   "metadata": {},
   "outputs": [],
   "source": [
    "# Calculate median of all NON-OUTLIER values\n",
    "median = np.median(df['number_of_strikes'][df['number_of_strikes'] >= lower_limit])\n",
    "\n",
    "# Impute the median for all values < lower_limit\n",
    "df['number_of_strikes'] = np.where(df['number_of_strikes'] < lower_limit, median, df['number_of_strikes'] )\n",
    "\n",
    "RunReset\n",
    "\n",
    "[ 15620068.   28804886.5  44600989.   35095195.   41582229.   37894191.\n",
    "  34919173.   27600898.   28807552.   31392058.   29068965.   30100585.\n",
    "  29790934.   30529064.   33292382.   38168699.   40023951.   39092327.\n",
    "  29916767.   25470095.   26276135.   27758681.   28802221.   26986915.\n",
    "  26190094.   22763540.   25094010.   24206929.   16371876.   16900934.\n",
    "  15839052.   14245186.    9150440.   28804886.5]"
   ]
  },
  {
   "cell_type": "markdown",
   "id": "f5503963-fb7a-434b-97d3-307bc985186f",
   "metadata": {},
   "source": [
    "**Note:** Outside of EDA, machine learning and regression modeling have more complex variations on dealing with outliers. You will learn more about those topics later.\n",
    "\n",
    "## Key Takeaways\n",
    "\n",
    "After detecting the outliers in a dataset, it is essential that you determine a strategy for how to handle them. Because every dataset and data-based problem is different, your strategy will vary. For the most part, you will be choosing between deleting, reassigning, or leaving outliers."
   ]
  }
 ],
 "metadata": {
  "kernelspec": {
   "display_name": "Python 3 (ipykernel)",
   "language": "python",
   "name": "python3"
  },
  "language_info": {
   "codemirror_mode": {
    "name": "ipython",
    "version": 3
   },
   "file_extension": ".py",
   "mimetype": "text/x-python",
   "name": "python",
   "nbconvert_exporter": "python",
   "pygments_lexer": "ipython3",
   "version": "3.12.2"
  }
 },
 "nbformat": 4,
 "nbformat_minor": 5
}
