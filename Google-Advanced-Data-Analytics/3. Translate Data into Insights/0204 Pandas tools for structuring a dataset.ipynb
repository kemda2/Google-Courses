{
 "cells": [
  {
   "cell_type": "markdown",
   "id": "61f4d890-3c8a-4e3b-8a8e-c9f502bba1a7",
   "metadata": {},
   "source": [
    "# Reference guide: Pandas tools for structuring a dataset\n",
    "\n",
    "As you’ve learned, there are far too many Python functions to memorize all of them. That’s why, as every data professional will tell you, you’ll be using reference sheets and coding libraries nearly every day in your data analysis work. \n",
    "\n",
    "The following reference guide will help you identify the most common Pandas tools used for structuring data. Note that this is just for reference. For detailed information on how each method works, including explanations of every parameter and examples, refer to the linked documentation.\n",
    "\n",
    "## Save this course item\n",
    "\n",
    "You may want to save a copy of this guide for future reference. You can use it as a resource for additional practice or in your future professional projects. To access a downloadable version of this course item, click the link below and select “Use Template.” \n",
    "\n",
    "## **Combine data**\n",
    "\n",
    "Note that for many situations that require combining data, you can use a number of different functions, methods, or approaches. Usually you’re not limited to a single “correct” function. So if these functions and methods seem very similar, don’t worry! It’s because they are! The best way to learn them, determine what works best for you, and understand them is to use them!\n",
    "\n",
    "[**df.merge()**](https://pandas.pydata.org/docs/reference/api/pandas.DataFrame.merge.html \"Link to pandas merge method documentation\")\n",
    "\n",
    "- A method available to the DataFrame class.\n",
    "    \n",
    "- Use df.merge() to take columns or indices from other dataframes and combine them with the one to which you’re applying the method.\n",
    "    \n",
    "- Example:\n",
    "    \n",
    "- **Note**: The following code block is not interactive.\n",
    "    "
   ]
  },
  {
   "cell_type": "code",
   "execution_count": null,
   "id": "103e7d9f-f3cb-47f1-adf7-683312cc12f4",
   "metadata": {},
   "outputs": [],
   "source": [
    "df1.merge(df2, how=‘inner’, on=[‘month’,’year’])"
   ]
  },
  {
   "cell_type": "markdown",
   "id": "80b9cda6-e4f5-40b7-9306-48e6dbcb44f3",
   "metadata": {},
   "source": [
    "[**pd.concat()**](https://pandas.pydata.org/docs/reference/api/pandas.concat.html \"Link to pandas concat function documentation\")\n",
    "\n",
    "- A pandas function to combine series and/or dataframes\n",
    "    \n",
    "- Use pd.concat() to join columns, rows, or dataframes along a particular axis\n",
    "    \n",
    "- Example:\n",
    "    \n",
    "- **Note**: The following code block is not interactive.\n",
    "    "
   ]
  },
  {
   "cell_type": "code",
   "execution_count": null,
   "id": "db6b3519-95f5-423d-955b-b2f016912d42",
   "metadata": {},
   "outputs": [],
   "source": [
    "df3 = pd.concat([df1.drop(['column_1','column_2'], axis=1), df2])"
   ]
  },
  {
   "cell_type": "markdown",
   "id": "ade0c925-cd0c-4547-928a-54d0aea0b50c",
   "metadata": {},
   "source": [
    "[**df.join()**](https://pandas.pydata.org/docs/reference/api/pandas.DataFrame.join.html \"Link to pandas join method documentation\")\n",
    "\n",
    "- A method available to the DataFrame class.\n",
    "    \n",
    "- Use df.join() to combine columns with another dataframe either on an index or on a key column. Efficiently join multiple DataFrame objects by index at once by passing a list.\n",
    "    \n",
    "- Example:\n",
    "    \n",
    "- **Note**: The following code block is not interactive.\n",
    "    "
   ]
  },
  {
   "cell_type": "code",
   "execution_count": null,
   "id": "243d6596-096f-4b26-84a9-8c31552714f5",
   "metadata": {},
   "outputs": [],
   "source": [
    "df1.set_index('key').join(df2.set_index('key'))"
   ]
  },
  {
   "attachments": {
    "e9d7be42-6e9e-4e3e-957c-f74284400b71.png": {
     "image/png": "[encoded data removed]"
    }
   },
   "cell_type": "markdown",
   "id": "6279eea3-c472-48ef-9a64-e656442f4fef",
   "metadata": {},
   "source": [
    "Visual representation of a combination:\n",
    "\n",
    "![image.png](attachment:e9d7be42-6e9e-4e3e-957c-f74284400b71.png)\n",
    "\n",
    "## Extract or select data\n",
    "\n",
    "`df[[columns]]`\n",
    "\n",
    "- Use df[[columns]] to extract/select columns from a dataframe. Example:\n",
    "    "
   ]
  },
  {
   "cell_type": "code",
   "execution_count": null,
   "id": "f06ac4af-7015-4fd7-8525-f71a95573e20",
   "metadata": {},
   "outputs": [],
   "source": [
    "print(df)\n",
    "\n",
    "print()\n",
    "\n",
    "df[['animal', 'legs']]\n",
    "\n",
    "RunReset\n",
    "\n",
    "     animal     class  color  legs\n",
    "0  cardinal      Aves    red     2\n",
    "1     gecko  Reptilia  green     4\n",
    "2     raven      Aves  black     2\n",
    "\n",
    "     animal  legs\n",
    "0  cardinal     2\n",
    "1     gecko     4\n",
    "2     raven     2"
   ]
  },
  {
   "cell_type": "markdown",
   "id": "cceecc52-ab07-4183-9f7c-1f853e343dd3",
   "metadata": {},
   "source": [
    "[**df.select_dtypes()**](https://pandas.pydata.org/docs/reference/api/pandas.DataFrame.select_dtypes.html)\n",
    "\n",
    "- A method available to the DataFrame class.\n",
    "    \n",
    "- Use df.select_dtypes() to return a subset of the dataframe’s columns based on the column dtypes (e.g., float64, int64, bool, object, etc.). Example:\n",
    "    "
   ]
  },
  {
   "cell_type": "code",
   "execution_count": null,
   "id": "5f12c39d-7e1f-43cc-a676-9a44d416bbbd",
   "metadata": {},
   "outputs": [],
   "source": [
    "print(df)\n",
    "\n",
    "print()\n",
    "\n",
    "df2 = df.select_dtypes(include=['int64'])\n",
    "\n",
    "df2\n",
    "\n",
    "RunReset\n",
    "\n",
    "     animal     class  color  legs\n",
    "0  cardinal      Aves    red     2\n",
    "1     gecko  Reptilia  green     4\n",
    "2     raven      Aves  black     2\n",
    "\n",
    "   legs\n",
    "0     2\n",
    "1     4\n",
    "2     2"
   ]
  },
  {
   "attachments": {
    "df3383a4-abab-485a-ae94-3e7dda5cb45d.png": {
     "image/png": "[encoded data removed]"
    }
   },
   "cell_type": "markdown",
   "id": "1a91a0ec-21ad-466a-b4ff-4cb6d83efa60",
   "metadata": {},
   "source": [
    "Visual representation of extraction:\n",
    "\n",
    "![image.png](attachment:df3383a4-abab-485a-ae94-3e7dda5cb45d.png)\n",
    "\n",
    "## Filter data\n",
    "\n",
    "Recall from Course 2 that Boolean masks are used to filter dataframes.\n",
    "\n",
    "df[condition]\n",
    "\n",
    "- Use df[condition] to create a Boolean mask, then apply the mask to the dataframe to filter according to selected condition.\n",
    "    \n",
    "- Example:\n",
    "    "
   ]
  },
  {
   "cell_type": "code",
   "execution_count": null,
   "id": "b738df8a-056d-4b93-b0bc-26ab6ff697f3",
   "metadata": {},
   "outputs": [],
   "source": [
    "print(df)\n",
    "\n",
    "print()\n",
    "\n",
    "df[df['class']=='Aves']\n",
    "\n",
    "RunReset\n",
    "\n",
    "     animal     class  color  legs\n",
    "0  cardinal      Aves    red     2\n",
    "1     gecko  Reptilia  green     4\n",
    "2     raven      Aves  black     2\n",
    "\n",
    "     animal class  color  legs\n",
    "0  cardinal  Aves    red     2\n",
    "2     raven  Aves  black     2"
   ]
  },
  {
   "attachments": {
    "dc9c6d5d-08ee-497b-8df0-d9f80168e2e4.png": {
     "image/png": "[encoded data removed]"
    }
   },
   "cell_type": "markdown",
   "id": "8a090649-6274-4149-b72a-67a206237cdb",
   "metadata": {},
   "source": [
    "Visual representation of filtering:\n",
    "\n",
    "![image.png](attachment:dc9c6d5d-08ee-497b-8df0-d9f80168e2e4.png)\n",
    "\n",
    "## Sort data\n",
    "\n",
    "[**df.sort_values()**](https://pandas.pydata.org/docs/reference/api/pandas.DataFrame.sort_values.html \"Link to sort_values function pandas documentation\")\n",
    "\n",
    "- A method available to the DataFrame class.\n",
    "    \n",
    "- Use df.sort_values() to sort data according to selected parameters.\n",
    "    \n",
    "- Example:\n",
    "    "
   ]
  },
  {
   "cell_type": "code",
   "execution_count": null,
   "id": "aad09370-772d-4390-9741-bc193166d82c",
   "metadata": {},
   "outputs": [],
   "source": [
    "print(df)\n",
    "\n",
    "print()\n",
    "\n",
    "df.sort_values(by=['legs'], ascending=False)\n",
    "\n",
    "RunReset\n",
    "\n",
    "     animal     class  color  legs\n",
    "0  cardinal      Aves    red     2\n",
    "1     gecko  Reptilia  green     4\n",
    "2     raven      Aves  black     2\n",
    "\n",
    "     animal     class  color  legs\n",
    "1     gecko  Reptilia  green     4\n",
    "0  cardinal      Aves    red     2\n",
    "2     raven      Aves  black     2"
   ]
  },
  {
   "cell_type": "markdown",
   "id": "3beacea8-5ed8-4b2d-bd42-bfa1306e1cfe",
   "metadata": {},
   "source": [
    "Visual representation of sorting:\n",
    "\n",
    "![A pair of 3-row columns is shown to be sorted alphabetically and numerically.](https://d3c33hcgiwev3.cloudfront.net/imageAssetProxy.v1/uKutiLU4QFmir2PBVsYmdw_470e1433100e4a28ad3f50742ddc15f1_image1.png?expiry=1714003200000&hmac=F6rIQ-YMsAMapBHZNR-3C-mtBG1jzxaVluGVsIiIIiM)\n",
    "\n",
    "## Slice data \n",
    "\n",
    "[**df.iloc[]**](https://pandas.pydata.org/docs/reference/api/pandas.DataFrame.iloc.html \"Link to iloc pandas documentation\")\n",
    "\n",
    "- Use df.iloc[] to slice a dataframe based on an integer index location.\n",
    "    \n",
    "- Examples:\n",
    "\n",
    "`df.iloc[5:10, 2:]` → selects only rows 5 through 9, at columns 2+\n",
    "\n",
    "`df.iloc[5:10]` → selects only rows 5 through 9, all columns \n",
    "\n",
    "`df.iloc[1, 2]` → selects value at row 1, column 2 \n",
    "\n",
    "`df.iloc[[0, 2], [2, 4]]` → selects only rows 0 and 2, at columns 2 and 4\n",
    "    "
   ]
  },
  {
   "cell_type": "markdown",
   "id": "e1d829e7-6477-4a58-ad41-18d75f93bbf8",
   "metadata": {},
   "source": [
    "[**df.loc[]**](https://pandas.pydata.org/docs/reference/api/pandas.DataFrame.loc.html \"Link to loc pandas documentation\")\n",
    "\n",
    "- Use df.loc[] to slice a dataframe based on a label or Boolean array.\n",
    "    \n",
    "- Example:"
   ]
  },
  {
   "cell_type": "code",
   "execution_count": null,
   "id": "5244c2d6-fd47-4369-8e39-9ffe43afbfc8",
   "metadata": {},
   "outputs": [],
   "source": [
    "print(df)\n",
    "\n",
    "print()\n",
    "\n",
    "df.loc[:, ['color', 'class']]\n",
    "\n",
    "RunReset\n",
    "\n",
    "     animal     class  color  legs\n",
    "0  cardinal      Aves    red     2\n",
    "1     gecko  Reptilia  green     4\n",
    "2     raven      Aves  black     2\n",
    "\n",
    "   color     class\n",
    "0    red      Aves\n",
    "1  green  Reptilia\n",
    "2  black      Aves"
   ]
  },
  {
   "cell_type": "markdown",
   "id": "7ea331bb-91b1-4459-aeff-33f58e78d387",
   "metadata": {},
   "source": [
    "## Key takeaways\n",
    "\n",
    "The tools in this reference guide are foundational to structuring data, including filtering, sorting, merging, and slicing. You will find yourself using them throughout your career as a data professional. \n",
    "\n",
    "## Resources for more information\n",
    "\n",
    "Refer to these links for more details on Python functions and their various parameters. \n",
    "\n",
    "- [Pandas documentation to describe parameters in Python functions](https://pandas.pydata.org/docs/index.html)\n",
    "    \n",
    "- [W3schools provides explanations for Python functions in an easy-to-understand way](https://www.w3schools.com/)"
   ]
  }
 ],
 "metadata": {
  "kernelspec": {
   "display_name": "Python 3 (ipykernel)",
   "language": "python",
   "name": "python3"
  },
  "language_info": {
   "codemirror_mode": {
    "name": "ipython",
    "version": 3
   },
   "file_extension": ".py",
   "mimetype": "text/x-python",
   "name": "python",
   "nbconvert_exporter": "python",
   "pygments_lexer": "ipython3",
   "version": "3.12.2"
  }
 },
 "nbformat": 4,
 "nbformat_minor": 5
}
