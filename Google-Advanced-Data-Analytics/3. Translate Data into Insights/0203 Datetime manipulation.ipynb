{
 "cells": [
  {
   "cell_type": "markdown",
   "id": "6ae03f1b-3ce5-429a-b354-4fca7c3fa127",
   "metadata": {},
   "source": [
    "# Reference guide: Datetime manipulation\n",
    "\n",
    "The following tables can serve as reference guides to remind you of the shorthand code for manipulating datetime strings into individual objects.\n",
    "\n",
    "## Save this course item\n",
    "\n",
    "You may want to save a copy of this guide for future reference. You can use it as a resource for additional practice or in your future professional projects. To access a downloadable version of this course item, click the link below and select “Use Template.” \n",
    "\n",
    "## Manipulating datetime strings in Python\n",
    "\n",
    "Below, you will find a table with the datetime functions you can use to help you manipulate datetime objects in different ways. \n",
    "\n",
    "|**Code**|**Format**|**Example**|\n",
    "|---|---|---|\n",
    "|**%a**|Abbreviated weekday|Sun|\n",
    "|**%A**|Weekday|Sunday|\n",
    "|**%b**|Abbreviated month|Jan|\n",
    "|**%B**|Month name|January|\n",
    "|**%c**|Date and time|Sun Jan 1 00:00:00 2021|\n",
    "|**%d**|Day (leading zeros)|01 to 31|\n",
    "|**%H**|24 hours|00 to 23|\n",
    "|**%I**|12 hours|01 to 12|\n",
    "|**%j**|Day of year|001 to 366|\n",
    "|**%m**|Month|01 to 12|\n",
    "|**%M**|Minute|00 to 59|\n",
    "|**%p**|AM or PM|AM/PM|\n",
    "|**%S**|Seconds|00 to 61|\n",
    "|**%U**|Week number (Sun)|00 to 53|\n",
    "|**%W**|Week number (Mon)|00 to 53|\n",
    "|**%w**|Weekday|0 to 6|\n",
    "|**%x**|Locale’s appropriate date representation|08/16/88 (None);<br><br>08/16/1988 (en_US);<br><br>16.08.1988 (de_DE)|\n",
    "|**%X**|A locale’s appropriate time representation|21:30:00 (en_US);<br><br>21:30:00 (de_DE)|\n",
    "|**%y**|Year without century|00 to 99|\n",
    "|**%Y**|Year|2022|\n",
    "|**%z**|Offset|+0900|\n",
    "|**%Z**|Time zone|EDT/JST/WET etc (GMT)|\n",
    "\n",
    "## Datetime functions to remember\n",
    "\n",
    "All of the following date string manipulations require the datetime package to be imported first.\n",
    "\n",
    "(from datetime import datetime)\n",
    "\n",
    "|**Code**|**Input Type**|**Input Example**|**Output Type**|**Output Example**|\n",
    "|---|---|---|---|---|\n",
    "|datetime.strptime(“25/11/2022”, “%d/%m/%Y”)|string|“25/11/2022”|DateTime|“2022-11-25  00:00:00”|\n",
    "|datetime.strftime(dt_object, “%d/%m/%Y”)|DateTime|“2022-11-25  00:00:00”|string|“25/11/2022”|\n",
    "|dt_object = datetime.strptime(“25/11/2022”, “%d/%m/%Y”)<br><br>datetime.timestamp(dt_object)|string|“25/11/2022”|float (UTC timestamp in seconds)|1617836400.0|\n",
    "|datetime.strptime(“25/11/2022”, “%d/%m/%Y”).strftime(“%Y-%m-%d”)|string|“25/11/2022”|string|“2022-11-25”|\n",
    "|datetime.fromtimestamp(1617836400.0)|float (UTC timestamp in seconds)|1617836400.0|DateTime|datetime.datetime(2021, 4, 7, 23, 0)|\n",
    "|datetime.fromtimestamp(1617836400.0).strftime(“%d/%m/%Y”)|float (UTC timestamp in seconds)|1617836400.0|string|“'07/04/2021'”|\n",
    "|from pytz import timezone<br><br>ny_time = datetime.strptime(“25-11-2022  09:34:00-0700”,<br><br>“%d-%m-%Y  %H:%M:%S%z”)<br><br>Tokyo_time = ny_time.astimezone(timezone(‘Asia/Tokyo’))|string|NewYork timezone “25-11-2022  09:34:00-0700”|DateTime|Tokyo timezone 2022, 11, 26, 1, 34, JST+9:00:00 STD>|\n",
    "|datetime.strptime(“20:00”, “%H:%M”).strftime(“%I:%M %p”)|string|“20:00”|string|“08:00 PM”|\n",
    "|datetime.strptime(“08:00 PM”, “%I:%M  %p”).strftime(“%H:%M”)|string|“08:00 PM”|string|“20:00”|\n",
    "\n",
    "## Datetime in NumPy and pandas\n",
    "\n",
    "A preface regarding terminology in the following section: datetime refers to the specific module of that name in the Python standard library or to the specific class within that module. Datetime (or uncapitalized, datetime) refers to any date/time-related object from any library or language.  \n",
    "\n",
    "You’ve learned that the datetime [module in Python’s standard library](https://docs.python.org/3/library/datetime.html) contains a number of classes used to work with time data, including date, time, datetime, timedelta, timezone, and tzinfo. Remember, modules are similar to libraries, in that they are groups of related classes and functions, but they are generally subcomponents of libraries. Classes are  data types that bundle data and functionality together.\n",
    "\n",
    "NumPy and pandas have their own datetime classes that offer significant performance boosts when working with large datasets. Pandas datetime classes, like the rest of the pandas library, are built on NumPy. These classes have very similar (and in many cases identical) functionality to Python’s native datetime classes, but they run more efficiently due to NumPy and pandas’ vectorization capabilities. Therefore, although you _can_ use datetime data in pandas, it’s generally better to use NumPy or pandas datetime objects when working in pandas, if possible.\n",
    "\n",
    "[NumPy’s datetime classes](https://numpy.org/doc/stable/reference/arrays.datetime.html) include, most notably, datetime64 and timedelta64. Like datetime objects, datetime64 objects contain date and time information in a single data structure; and, like timedelta objects, timedelta64 objects contain information pertaining to spans of time. \n",
    "\n",
    "[Pandas’ datetime classes](https://pandas.pydata.org/docs/user_guide/timeseries.html) include Timestamp, Timedelta, Period, and DateOffset.  \n",
    "\n",
    "Because these classes are efficient and dynamic in their capabilities, you often don’t need to import the datetime module when working with datetime data in pandas. Also, pandas will automatically recognize datetime-like data and convert it to the appropriate class when possible. Here’s an example:"
   ]
  },
  {
   "cell_type": "code",
   "execution_count": null,
   "id": "5f2d9e71-79c3-46d5-8f3f-85fb751ab94c",
   "metadata": {},
   "outputs": [],
   "source": [
    "import pandas as pd\n",
    "\n",
    "data = ['2023-01-20', '2023-04-27', '2023-06-15']\n",
    "\n",
    "my_series = pd.Series(data)\n",
    "\n",
    "my_series\n",
    "\n",
    "RunReset\n",
    "\n",
    "0    2023-01-20\n",
    "1    2023-04-27\n",
    "2    2023-06-15\n",
    "dtype: object"
   ]
  },
  {
   "cell_type": "markdown",
   "id": "1cbd448a-e3dd-435e-bf67-4d9e0351a36e",
   "metadata": {},
   "source": [
    "This series contains string data, but it can be converted to datetime64 data using the pd.to_datetime() function:"
   ]
  },
  {
   "cell_type": "code",
   "execution_count": null,
   "id": "2035839f-46ef-4f1a-8b20-8ca438c214fa",
   "metadata": {},
   "outputs": [],
   "source": [
    "my_series = pd.to_datetime(my_series)\n",
    "\n",
    "my_series\n",
    "\n",
    "RunReset\n",
    "\n",
    "0   2023-01-20\n",
    "1   2023-04-27\n",
    "2   2023-06-15\n",
    "dtype: datetime64[ns]"
   ]
  },
  {
   "cell_type": "markdown",
   "id": "be69afa1-3bd6-40c3-83b8-2040d0d4fe93",
   "metadata": {},
   "source": [
    "Refer to the [pandas to_datetime() documentation](https://pandas.pydata.org/docs/reference/api/pandas.to_datetime.html) for more information about this function.\n",
    "\n",
    "When a Series object contains datetime data, you can use dt to access various properties of the data. For example:"
   ]
  },
  {
   "cell_type": "code",
   "execution_count": null,
   "id": "3583d7fe-56d9-485d-9774-e0db9072b569",
   "metadata": {},
   "outputs": [],
   "source": [
    "print(my_series.dt.year)\n",
    "\n",
    "print(my_series.dt.month)\n",
    "\n",
    "print(my_series.dt.day)\n",
    "\n",
    "RunReset\n",
    "\n",
    "0    2023\n",
    "1    2023\n",
    "2    2023\n",
    "dtype: int64\n",
    "0    1\n",
    "1    4\n",
    "2    6\n",
    "dtype: int64\n",
    "0    20\n",
    "1    27\n",
    "2    15\n",
    "dtype: int64"
   ]
  },
  {
   "cell_type": "markdown",
   "id": "4dc41dc5-af57-4415-b462-a749d11e0bb3",
   "metadata": {},
   "source": [
    "Note that it’s not uncommon to import the datetime module from Python’s standard library as dt. You may have encountered this yourself. In such case, dt is being used as an alias. The pandas dt Series accessor (as demonstrated in the last example) is a different thing entirely. Refer to the [pandas dt accessor documentation](https://pandas.pydata.org/pandas-docs/stable/user_guide/basics.html#dt-accessor) for more information.\n",
    "\n",
    "## Key takeaways\n",
    "\n",
    "Use reference guides like the tables above throughout your career to help remind you of the different ways to manipulate datetime objects. Even experts in the field use reference guides, rather than memorizing all this information. Getting familiar with guides like these will be beneficial because you will be using them throughout your career as a data professional."
   ]
  }
 ],
 "metadata": {
  "kernelspec": {
   "display_name": "Python 3 (ipykernel)",
   "language": "python",
   "name": "python3"
  },
  "language_info": {
   "codemirror_mode": {
    "name": "ipython",
    "version": 3
   },
   "file_extension": ".py",
   "mimetype": "text/x-python",
   "name": "python",
   "nbconvert_exporter": "python",
   "pygments_lexer": "ipython3",
   "version": "3.12.2"
  }
 },
 "nbformat": 4,
 "nbformat_minor": 5
}
